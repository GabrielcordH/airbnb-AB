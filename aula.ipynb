{
 "cells": [
  {
   "cell_type": "markdown",
   "id": "da848df1",
   "metadata": {},
   "source": [
    "# Teste A/B"
   ]
  },
  {
   "cell_type": "markdown",
   "id": "fdebd071",
   "metadata": {},
   "source": [
    "- Teste A/B ou split test originam dos RCT \n",
    "- Utiliza-se grupos de controle e tratamento"
   ]
  },
  {
   "cell_type": "markdown",
   "id": "d3df4d2b",
   "metadata": {},
   "source": [
    "Dividimos o Teste A/B em:\n",
    "1 - Hipóteses do Teste A/B\n",
    "2 - Design no Teste A/B (Power analysis): cálculo do tamanho da amostra\n",
    "3 - Realizar o Teste A/B\n",
    "4 - Análise dos Resultados: Significância estatística\n",
    "5 - Análise dos Resultados: Singificância na Prática"
   ]
  },
  {
   "cell_type": "markdown",
   "id": "879647d2",
   "metadata": {},
   "source": [
    "## Hipóteses do Teste A/B"
   ]
  },
  {
   "cell_type": "markdown",
   "id": "5e35e6d9",
   "metadata": {},
   "source": [
    "Descreve quais produtos estão sendo comparados e qual o impacto ou diferença desejada\n",
    "\n",
    "- Como solucionar potênciais problemas no produto\n",
    "- Como a solução vai influenciar as KPI's"
   ]
  },
  {
   "cell_type": "markdown",
   "id": "fc1f1368",
   "metadata": {},
   "source": [
    "É preciso escolher **uma única métrica primária** para medir a significância estatística entre os grupos\n",
    "Para escolher essa métrica devemos nos perguntar: **Se essa métrica aumentar consideravelmente e tudo se manter constante, atingimos nossa meta e solucionamos o problema?**\n"
   ]
  },
  {
   "cell_type": "markdown",
   "id": "4c5f58af",
   "metadata": {},
   "source": [
    "Hipótese Nula: $H_{0}$: Taxa de cliques (CTR) do botão em azul é a mesma do botão em verde\n",
    "\n",
    "Hipótese Alternativa: $H_{1}$: Taxa de cliques (CTR) do botão em azul é maior que a do botão em verde"
   ]
  },
  {
   "cell_type": "markdown",
   "id": "705ded8c",
   "metadata": {},
   "source": [
    "## Design do Teste A/B"
   ]
  },
  {
   "cell_type": "markdown",
   "id": "1b9e46d0",
   "metadata": {},
   "source": [
    "Aqui será dividido em 4 subetapas:\n",
    "- Power Analysis\n",
    "- Calcular o menor espaço amostral possível dado um níivel de significância, poder estatístico e tamanho do efeito\n",
    "- Duração do teste"
   ]
  },
  {
   "cell_type": "markdown",
   "id": "f1bae8e8",
   "metadata": {},
   "source": [
    "### Power Analysis  "
   ]
  },
  {
   "cell_type": "markdown",
   "id": "50189618",
   "metadata": {},
   "source": [
    "Determinar o poder estatístico ($ \\beta$) do teste\n",
    "- Probabilidade de rejeitar corretamente a hipótese nula\n",
    "- Probablidade de não fazer um erro do tipo II ($1 - \\beta$), ou seja, falso negativo\n",
    "Usualmente é escolhido 80% como o poder do Teste A/B, ou seja, permite-se 20% de erro II"
   ]
  },
  {
   "cell_type": "markdown",
   "id": "1732f151",
   "metadata": {},
   "source": [
    "Determinar o nível de significância do teste:\n",
    "- Probablidade de um erro do tipo I ($\\alpha$), falso positivo \n",
    "\\\n",
    "Usualmente o nível escolhido é de 5%"
   ]
  },
  {
   "cell_type": "markdown",
   "id": "d1e8af42",
   "metadata": {},
   "source": [
    "Determinar o Efeito mínimo Detectavel (MDE)\n",
    "- Em negócios, qual seria o impacto mínimo observado para entender isso como algo com efeito real $\\delta$\n",
    "- É uma variável Proxy\n",
    "Não há valor usual  "
   ]
  },
  {
   "cell_type": "markdown",
   "id": "c284e50b",
   "metadata": {},
   "source": [
    "### Calculando o Menor Tamanho de Amostra"
   ]
  },
  {
   "cell_type": "markdown",
   "id": "9695147f",
   "metadata": {},
   "source": [
    "N = $\\frac{(\\sigma^2_{con} + \\sigma^2_{exp})(z_{1-\\frac{\\alpha}{2}} + z_{1-\\beta})^2}{\\delta^2}$"
   ]
  },
  {
   "cell_type": "markdown",
   "id": "621ce1f2",
   "metadata": {},
   "source": [
    " ### Duração do Teste"
   ]
  },
  {
   "cell_type": "markdown",
   "id": "0862cf71",
   "metadata": {},
   "source": [
    "Duração = $\\frac{N}{Visitantes/dia}$"
   ]
  },
  {
   "cell_type": "markdown",
   "id": "da777004",
   "metadata": {},
   "source": [
    "- Testes Muito curtos geram o chamado Novelty Effect, ou efeito novidade, onde **os usuários respondem bem pela novidade mas não se sustenta no longo prazo**\n",
    "- Testes  muito longos geram o efeito de maturação, onde **outras variáveis passam a agir e fica mais complicado associar as melhorias apenas a mudança analisada**"
   ]
  },
  {
   "cell_type": "markdown",
   "id": "8855f95f",
   "metadata": {},
   "source": [
    "##"
   ]
  }
 ],
 "metadata": {
  "language_info": {
   "name": "python"
  }
 },
 "nbformat": 4,
 "nbformat_minor": 5
}
