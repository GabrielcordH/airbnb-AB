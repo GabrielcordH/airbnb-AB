{
 "cells": [
  {
   "cell_type": "markdown",
   "id": "d7c7b153",
   "metadata": {},
   "source": [
    "## Load Dataset & Libraries"
   ]
  },
  {
   "cell_type": "code",
   "execution_count": 18,
   "id": "73a3014d",
   "metadata": {},
   "outputs": [
    {
     "name": "stderr",
     "output_type": "stream",
     "text": [
      "C:\\Users\\User\\AppData\\Local\\Temp\\ipykernel_8120\\477681342.py:7: DtypeWarning: Columns (25) have mixed types. Specify dtype option on import or set low_memory=False.\n",
      "  df = pd.read_csv('data.csv')\n"
     ]
    }
   ],
   "source": [
    "import pandas as pd\n",
    "import sqlite3\n",
    "import matplotlib.pyplot as plt\n",
    "import matplotlib.pyplot as plt\n",
    "import seaborn as sns\n",
    "\n",
    "df = pd.read_csv('data.csv')"
   ]
  },
  {
   "cell_type": "markdown",
   "id": "a0210db1",
   "metadata": {},
   "source": [
    "## Preprocessing"
   ]
  },
  {
   "cell_type": "code",
   "execution_count": 33,
   "id": "14eeac4a",
   "metadata": {},
   "outputs": [
    {
     "data": {
      "text/html": [
       "<div>\n",
       "<style scoped>\n",
       "    .dataframe tbody tr th:only-of-type {\n",
       "        vertical-align: middle;\n",
       "    }\n",
       "\n",
       "    .dataframe tbody tr th {\n",
       "        vertical-align: top;\n",
       "    }\n",
       "\n",
       "    .dataframe thead th {\n",
       "        text-align: right;\n",
       "    }\n",
       "</style>\n",
       "<table border=\"1\" class=\"dataframe\">\n",
       "  <thead>\n",
       "    <tr style=\"text-align: right;\">\n",
       "      <th></th>\n",
       "      <th>id</th>\n",
       "      <th>NAME</th>\n",
       "      <th>host id</th>\n",
       "      <th>host_identity_verified</th>\n",
       "      <th>host name</th>\n",
       "      <th>neighbourhood group</th>\n",
       "      <th>neighbourhood</th>\n",
       "      <th>lat</th>\n",
       "      <th>long</th>\n",
       "      <th>instant_bookable</th>\n",
       "      <th>cancellation_policy</th>\n",
       "      <th>room type</th>\n",
       "      <th>Construction year</th>\n",
       "      <th>price</th>\n",
       "      <th>service fee</th>\n",
       "      <th>minimum nights</th>\n",
       "      <th>number of reviews</th>\n",
       "      <th>last review</th>\n",
       "      <th>reviews per month</th>\n",
       "      <th>review rate number</th>\n",
       "      <th>calculated host listings count</th>\n",
       "      <th>availability 365</th>\n",
       "      <th>house_rules</th>\n",
       "    </tr>\n",
       "  </thead>\n",
       "  <tbody>\n",
       "    <tr>\n",
       "      <th>0</th>\n",
       "      <td>1001254</td>\n",
       "      <td>Clean &amp; quiet apt home by the park</td>\n",
       "      <td>80014485718</td>\n",
       "      <td>unconfirmed</td>\n",
       "      <td>Madaline</td>\n",
       "      <td>Brooklyn</td>\n",
       "      <td>Kensington</td>\n",
       "      <td>40.64749</td>\n",
       "      <td>-73.97237</td>\n",
       "      <td>False</td>\n",
       "      <td>strict</td>\n",
       "      <td>Private room</td>\n",
       "      <td>2020.0</td>\n",
       "      <td>$966</td>\n",
       "      <td>$193</td>\n",
       "      <td>10.0</td>\n",
       "      <td>9.0</td>\n",
       "      <td>10/19/2021</td>\n",
       "      <td>0.21</td>\n",
       "      <td>4.0</td>\n",
       "      <td>6.0</td>\n",
       "      <td>286.0</td>\n",
       "      <td>Clean up and treat the home the way you'd like...</td>\n",
       "    </tr>\n",
       "    <tr>\n",
       "      <th>1</th>\n",
       "      <td>1002102</td>\n",
       "      <td>Skylit Midtown Castle</td>\n",
       "      <td>52335172823</td>\n",
       "      <td>verified</td>\n",
       "      <td>Jenna</td>\n",
       "      <td>Manhattan</td>\n",
       "      <td>Midtown</td>\n",
       "      <td>40.75362</td>\n",
       "      <td>-73.98377</td>\n",
       "      <td>False</td>\n",
       "      <td>moderate</td>\n",
       "      <td>Entire home/apt</td>\n",
       "      <td>2007.0</td>\n",
       "      <td>$142</td>\n",
       "      <td>$28</td>\n",
       "      <td>30.0</td>\n",
       "      <td>45.0</td>\n",
       "      <td>5/21/2022</td>\n",
       "      <td>0.38</td>\n",
       "      <td>4.0</td>\n",
       "      <td>2.0</td>\n",
       "      <td>228.0</td>\n",
       "      <td>Pet friendly but please confirm with me if the...</td>\n",
       "    </tr>\n",
       "    <tr>\n",
       "      <th>2</th>\n",
       "      <td>1002403</td>\n",
       "      <td>THE VILLAGE OF HARLEM....NEW YORK !</td>\n",
       "      <td>78829239556</td>\n",
       "      <td>NaN</td>\n",
       "      <td>Elise</td>\n",
       "      <td>Manhattan</td>\n",
       "      <td>Harlem</td>\n",
       "      <td>40.80902</td>\n",
       "      <td>-73.94190</td>\n",
       "      <td>True</td>\n",
       "      <td>flexible</td>\n",
       "      <td>Private room</td>\n",
       "      <td>2005.0</td>\n",
       "      <td>$620</td>\n",
       "      <td>$124</td>\n",
       "      <td>3.0</td>\n",
       "      <td>0.0</td>\n",
       "      <td>NaN</td>\n",
       "      <td>NaN</td>\n",
       "      <td>5.0</td>\n",
       "      <td>1.0</td>\n",
       "      <td>352.0</td>\n",
       "      <td>I encourage you to use my kitchen, cooking and...</td>\n",
       "    </tr>\n",
       "    <tr>\n",
       "      <th>3</th>\n",
       "      <td>1002755</td>\n",
       "      <td>NaN</td>\n",
       "      <td>85098326012</td>\n",
       "      <td>unconfirmed</td>\n",
       "      <td>Garry</td>\n",
       "      <td>Brooklyn</td>\n",
       "      <td>Clinton Hill</td>\n",
       "      <td>40.68514</td>\n",
       "      <td>-73.95976</td>\n",
       "      <td>True</td>\n",
       "      <td>moderate</td>\n",
       "      <td>Entire home/apt</td>\n",
       "      <td>2005.0</td>\n",
       "      <td>$368</td>\n",
       "      <td>$74</td>\n",
       "      <td>30.0</td>\n",
       "      <td>270.0</td>\n",
       "      <td>7/5/2019</td>\n",
       "      <td>4.64</td>\n",
       "      <td>4.0</td>\n",
       "      <td>1.0</td>\n",
       "      <td>322.0</td>\n",
       "      <td>NaN</td>\n",
       "    </tr>\n",
       "    <tr>\n",
       "      <th>4</th>\n",
       "      <td>1003689</td>\n",
       "      <td>Entire Apt: Spacious Studio/Loft by central park</td>\n",
       "      <td>92037596077</td>\n",
       "      <td>verified</td>\n",
       "      <td>Lyndon</td>\n",
       "      <td>Manhattan</td>\n",
       "      <td>East Harlem</td>\n",
       "      <td>40.79851</td>\n",
       "      <td>-73.94399</td>\n",
       "      <td>False</td>\n",
       "      <td>moderate</td>\n",
       "      <td>Entire home/apt</td>\n",
       "      <td>2009.0</td>\n",
       "      <td>$204</td>\n",
       "      <td>$41</td>\n",
       "      <td>10.0</td>\n",
       "      <td>9.0</td>\n",
       "      <td>11/19/2018</td>\n",
       "      <td>0.10</td>\n",
       "      <td>3.0</td>\n",
       "      <td>1.0</td>\n",
       "      <td>289.0</td>\n",
       "      <td>Please no smoking in the house, porch or on th...</td>\n",
       "    </tr>\n",
       "  </tbody>\n",
       "</table>\n",
       "</div>"
      ],
      "text/plain": [
       "        id                                              NAME      host id  \\\n",
       "0  1001254                Clean & quiet apt home by the park  80014485718   \n",
       "1  1002102                             Skylit Midtown Castle  52335172823   \n",
       "2  1002403               THE VILLAGE OF HARLEM....NEW YORK !  78829239556   \n",
       "3  1002755                                               NaN  85098326012   \n",
       "4  1003689  Entire Apt: Spacious Studio/Loft by central park  92037596077   \n",
       "\n",
       "  host_identity_verified host name neighbourhood group neighbourhood  \\\n",
       "0            unconfirmed  Madaline            Brooklyn    Kensington   \n",
       "1               verified     Jenna           Manhattan       Midtown   \n",
       "2                    NaN     Elise           Manhattan        Harlem   \n",
       "3            unconfirmed     Garry            Brooklyn  Clinton Hill   \n",
       "4               verified    Lyndon           Manhattan   East Harlem   \n",
       "\n",
       "        lat      long instant_bookable cancellation_policy        room type  \\\n",
       "0  40.64749 -73.97237            False              strict     Private room   \n",
       "1  40.75362 -73.98377            False            moderate  Entire home/apt   \n",
       "2  40.80902 -73.94190             True            flexible     Private room   \n",
       "3  40.68514 -73.95976             True            moderate  Entire home/apt   \n",
       "4  40.79851 -73.94399            False            moderate  Entire home/apt   \n",
       "\n",
       "   Construction year  price service fee  minimum nights  number of reviews  \\\n",
       "0             2020.0  $966        $193             10.0                9.0   \n",
       "1             2007.0  $142         $28             30.0               45.0   \n",
       "2             2005.0  $620        $124              3.0                0.0   \n",
       "3             2005.0  $368         $74             30.0              270.0   \n",
       "4             2009.0  $204         $41             10.0                9.0   \n",
       "\n",
       "  last review  reviews per month  review rate number  \\\n",
       "0  10/19/2021               0.21                 4.0   \n",
       "1   5/21/2022               0.38                 4.0   \n",
       "2         NaN                NaN                 5.0   \n",
       "3    7/5/2019               4.64                 4.0   \n",
       "4  11/19/2018               0.10                 3.0   \n",
       "\n",
       "   calculated host listings count  availability 365  \\\n",
       "0                             6.0             286.0   \n",
       "1                             2.0             228.0   \n",
       "2                             1.0             352.0   \n",
       "3                             1.0             322.0   \n",
       "4                             1.0             289.0   \n",
       "\n",
       "                                         house_rules  \n",
       "0  Clean up and treat the home the way you'd like...  \n",
       "1  Pet friendly but please confirm with me if the...  \n",
       "2  I encourage you to use my kitchen, cooking and...  \n",
       "3                                                NaN  \n",
       "4  Please no smoking in the house, porch or on th...  "
      ]
     },
     "execution_count": 33,
     "metadata": {},
     "output_type": "execute_result"
    }
   ],
   "source": [
    "df.head()"
   ]
  },
  {
   "cell_type": "markdown",
   "id": "67041e02",
   "metadata": {},
   "source": [
    "### Data Cleaning"
   ]
  },
  {
   "cell_type": "markdown",
   "id": "5653e4e1",
   "metadata": {},
   "source": [
    "First i will check if there is any missing or duplicate value in the dataframe"
   ]
  },
  {
   "cell_type": "code",
   "execution_count": 20,
   "id": "1b9183b6",
   "metadata": {},
   "outputs": [
    {
     "data": {
      "text/plain": [
       "541"
      ]
     },
     "execution_count": 20,
     "metadata": {},
     "output_type": "execute_result"
    }
   ],
   "source": [
    "df.duplicated().sum()"
   ]
  },
  {
   "cell_type": "markdown",
   "id": "0368b65a",
   "metadata": {},
   "source": [
    "I will drop the duplicate values to prevent some bias in the later tests"
   ]
  },
  {
   "cell_type": "code",
   "execution_count": 21,
   "id": "ebeca6d2",
   "metadata": {},
   "outputs": [],
   "source": [
    "df = df.drop_duplicates()"
   ]
  },
  {
   "cell_type": "markdown",
   "id": "21d80faa",
   "metadata": {},
   "source": [
    "Now i will move on to do a missing values verification, and if necessary, missing imputation"
   ]
  },
  {
   "cell_type": "code",
   "execution_count": null,
   "id": "cbc9c8ba",
   "metadata": {},
   "outputs": [
    {
     "data": {
      "text/html": [
       "<div>\n",
       "<style scoped>\n",
       "    .dataframe tbody tr th:only-of-type {\n",
       "        vertical-align: middle;\n",
       "    }\n",
       "\n",
       "    .dataframe tbody tr th {\n",
       "        vertical-align: top;\n",
       "    }\n",
       "\n",
       "    .dataframe thead th {\n",
       "        text-align: right;\n",
       "    }\n",
       "</style>\n",
       "<table border=\"1\" class=\"dataframe\">\n",
       "  <thead>\n",
       "    <tr style=\"text-align: right;\">\n",
       "      <th></th>\n",
       "      <th>columns</th>\n",
       "      <th>%</th>\n",
       "    </tr>\n",
       "  </thead>\n",
       "  <tbody>\n",
       "    <tr>\n",
       "      <th>0</th>\n",
       "      <td>id</td>\n",
       "      <td>0.000000</td>\n",
       "    </tr>\n",
       "    <tr>\n",
       "      <th>1</th>\n",
       "      <td>NAME</td>\n",
       "      <td>0.244959</td>\n",
       "    </tr>\n",
       "    <tr>\n",
       "      <th>2</th>\n",
       "      <td>host id</td>\n",
       "      <td>0.000000</td>\n",
       "    </tr>\n",
       "    <tr>\n",
       "      <th>3</th>\n",
       "      <td>host_identity_verified</td>\n",
       "      <td>0.283172</td>\n",
       "    </tr>\n",
       "    <tr>\n",
       "      <th>4</th>\n",
       "      <td>host name</td>\n",
       "      <td>0.395853</td>\n",
       "    </tr>\n",
       "    <tr>\n",
       "      <th>5</th>\n",
       "      <td>neighbourhood group</td>\n",
       "      <td>0.028415</td>\n",
       "    </tr>\n",
       "    <tr>\n",
       "      <th>6</th>\n",
       "      <td>neighbourhood</td>\n",
       "      <td>0.015677</td>\n",
       "    </tr>\n",
       "    <tr>\n",
       "      <th>7</th>\n",
       "      <td>lat</td>\n",
       "      <td>0.007839</td>\n",
       "    </tr>\n",
       "    <tr>\n",
       "      <th>8</th>\n",
       "      <td>long</td>\n",
       "      <td>0.007839</td>\n",
       "    </tr>\n",
       "    <tr>\n",
       "      <th>9</th>\n",
       "      <td>country</td>\n",
       "      <td>0.521272</td>\n",
       "    </tr>\n",
       "    <tr>\n",
       "      <th>10</th>\n",
       "      <td>country code</td>\n",
       "      <td>0.128358</td>\n",
       "    </tr>\n",
       "    <tr>\n",
       "      <th>11</th>\n",
       "      <td>instant_bookable</td>\n",
       "      <td>0.102883</td>\n",
       "    </tr>\n",
       "    <tr>\n",
       "      <th>12</th>\n",
       "      <td>cancellation_policy</td>\n",
       "      <td>0.074467</td>\n",
       "    </tr>\n",
       "    <tr>\n",
       "      <th>13</th>\n",
       "      <td>room type</td>\n",
       "      <td>0.000000</td>\n",
       "    </tr>\n",
       "    <tr>\n",
       "      <th>14</th>\n",
       "      <td>Construction year</td>\n",
       "      <td>0.209685</td>\n",
       "    </tr>\n",
       "    <tr>\n",
       "      <th>15</th>\n",
       "      <td>price</td>\n",
       "      <td>0.242019</td>\n",
       "    </tr>\n",
       "    <tr>\n",
       "      <th>16</th>\n",
       "      <td>service fee</td>\n",
       "      <td>0.267495</td>\n",
       "    </tr>\n",
       "    <tr>\n",
       "      <th>17</th>\n",
       "      <td>minimum nights</td>\n",
       "      <td>0.391934</td>\n",
       "    </tr>\n",
       "    <tr>\n",
       "      <th>18</th>\n",
       "      <td>number of reviews</td>\n",
       "      <td>0.179310</td>\n",
       "    </tr>\n",
       "    <tr>\n",
       "      <th>19</th>\n",
       "      <td>last review</td>\n",
       "      <td>15.512748</td>\n",
       "    </tr>\n",
       "    <tr>\n",
       "      <th>20</th>\n",
       "      <td>reviews per month</td>\n",
       "      <td>15.499030</td>\n",
       "    </tr>\n",
       "    <tr>\n",
       "      <th>21</th>\n",
       "      <td>review rate number</td>\n",
       "      <td>0.312567</td>\n",
       "    </tr>\n",
       "    <tr>\n",
       "      <th>22</th>\n",
       "      <td>calculated host listings count</td>\n",
       "      <td>0.312567</td>\n",
       "    </tr>\n",
       "    <tr>\n",
       "      <th>23</th>\n",
       "      <td>availability 365</td>\n",
       "      <td>0.438966</td>\n",
       "    </tr>\n",
       "    <tr>\n",
       "      <th>24</th>\n",
       "      <td>house_rules</td>\n",
       "      <td>50.796606</td>\n",
       "    </tr>\n",
       "    <tr>\n",
       "      <th>25</th>\n",
       "      <td>license</td>\n",
       "      <td>99.998040</td>\n",
       "    </tr>\n",
       "  </tbody>\n",
       "</table>\n",
       "</div>"
      ],
      "text/plain": [
       "                           columns          %\n",
       "0                               id   0.000000\n",
       "1                             NAME   0.244959\n",
       "2                          host id   0.000000\n",
       "3           host_identity_verified   0.283172\n",
       "4                        host name   0.395853\n",
       "5              neighbourhood group   0.028415\n",
       "6                    neighbourhood   0.015677\n",
       "7                              lat   0.007839\n",
       "8                             long   0.007839\n",
       "9                          country   0.521272\n",
       "10                    country code   0.128358\n",
       "11                instant_bookable   0.102883\n",
       "12             cancellation_policy   0.074467\n",
       "13                       room type   0.000000\n",
       "14               Construction year   0.209685\n",
       "15                           price   0.242019\n",
       "16                     service fee   0.267495\n",
       "17                  minimum nights   0.391934\n",
       "18               number of reviews   0.179310\n",
       "19                     last review  15.512748\n",
       "20               reviews per month  15.499030\n",
       "21              review rate number   0.312567\n",
       "22  calculated host listings count   0.312567\n",
       "23                availability 365   0.438966\n",
       "24                     house_rules  50.796606\n",
       "25                         license  99.998040"
      ]
     },
     "execution_count": 22,
     "metadata": {},
     "output_type": "execute_result"
    }
   ],
   "source": [
    "percentage_result = df.isnull().sum()/df.shape[0] * 100\n",
    "\n",
    "percentage_result = pd.DataFrame({\"columns\": percentage_result.keys(), \"%\": percentage_result})\n",
    "percentage_result.reset_index(drop=True, inplace=True)\n",
    "percentage_result"
   ]
  },
  {
   "cell_type": "markdown",
   "id": "89409805",
   "metadata": {},
   "source": [
    "Almost all the rows have a small amonunt of missing, bolow 1%, but last review, reviews per month anf house rules have a 15-50% missing ratio\n",
    "\\\n",
    "The frist two seems to be NMAR, since new hosts with 0 reviews can be the case of missing, i will test that below\n"
   ]
  },
  {
   "cell_type": "code",
   "execution_count": null,
   "id": "27dd3d75",
   "metadata": {},
   "outputs": [
    {
     "name": "stdout",
     "output_type": "stream",
     "text": [
      "Ratio of missing last review in listings with 0 reviews: 0.99\n",
      "Ratio of missing reviews per month in listings with 0 reviews: 0.99\n",
      "Ratio of missing review rate number in listings with 0 reviews: 0.10\n"
     ]
    }
   ],
   "source": [
    "check_cols = [\"last review\", \"reviews per month\"]\n",
    "\n",
    "for col in check_cols:\n",
    "    missing_in_col = df[col].isna()\n",
    "    zero_reviews = df[\"number of reviews\"] == 0\n",
    "    \n",
    "    ratio = (missing_in_col & zero_reviews).sum() / missing_in_col.sum()\n",
    "    print(f\"Ratio of missing {col} in listings with 0 reviews: {ratio:.2f}\")"
   ]
  },
  {
   "cell_type": "markdown",
   "id": "5a4ec9eb",
   "metadata": {},
   "source": [
    "Since the ratio is almost at 1005, i will fill the missings with 0"
   ]
  },
  {
   "cell_type": "code",
   "execution_count": 40,
   "id": "0ce24266",
   "metadata": {},
   "outputs": [],
   "source": [
    "cols_to_fill_zero = [\"reviews per month\", \"last review\"]\n",
    "\n",
    "df[cols_to_fill_zero] = df[cols_to_fill_zero].fillna(0)"
   ]
  },
  {
   "cell_type": "code",
   "execution_count": 26,
   "id": "f0bc7685",
   "metadata": {},
   "outputs": [],
   "source": [
    "#i will drop the license row since the missing is almost at 100%\n",
    "df = df.drop(columns=[\"license\"])"
   ]
  },
  {
   "cell_type": "markdown",
   "id": "d17c056e",
   "metadata": {},
   "source": [
    "Now i will check if some columns have a high ratio of unique values, those will be: host id, host name, country and country code"
   ]
  },
  {
   "cell_type": "code",
   "execution_count": null,
   "id": "453729c4",
   "metadata": {},
   "outputs": [
    {
     "name": "stdout",
     "output_type": "stream",
     "text": [
      "host id         0.99999\n",
      "host name       0.12924\n",
      "country         0.00001\n",
      "country code    0.00001\n",
      "dtype: float64\n"
     ]
    }
   ],
   "source": [
    "cols_to_check = ['host id', 'host name', 'country', 'country code']\n",
    "\n",
    "unique_ratios = df[cols_to_check].nunique() / len(df)\n",
    "\n",
    "print(unique_ratios)"
   ]
  },
  {
   "cell_type": "markdown",
   "id": "133bedaf",
   "metadata": {},
   "source": [
    "Country and country code have a high unique value ratio, so i will drop them. This is expected since the dataframe only contains data from NYC. I will do the same with host id"
   ]
  },
  {
   "cell_type": "code",
   "execution_count": null,
   "id": "1260be99",
   "metadata": {},
   "outputs": [],
   "source": [
    "df = df.drop(columns=[\"country\", \"country code\", \"host id\"])"
   ]
  },
  {
   "cell_type": "markdown",
   "id": "26968169",
   "metadata": {},
   "source": [
    "For the house_rules row i will fill the missing with \"no rules\""
   ]
  },
  {
   "cell_type": "code",
   "execution_count": 42,
   "id": "3fe6269b",
   "metadata": {},
   "outputs": [],
   "source": [
    "df[\"house_rules\"] = df[\"house_rules\"].fillna(\"No rules\")"
   ]
  },
  {
   "cell_type": "markdown",
   "id": "99811c84",
   "metadata": {},
   "source": [
    "### Feature Engineering"
   ]
  },
  {
   "cell_type": "markdown",
   "id": "741a11f8",
   "metadata": {},
   "source": [
    "Next steps:\n",
    "- Create some columns that verifies if a airbnb has smoking, pet, party etc. rules\n",
    "- Create a feature to measure the distance to the nearest subway station\n",
    "- The same bu for the central park"
   ]
  }
 ],
 "metadata": {
  "kernelspec": {
   "display_name": "base",
   "language": "python",
   "name": "python3"
  },
  "language_info": {
   "codemirror_mode": {
    "name": "ipython",
    "version": 3
   },
   "file_extension": ".py",
   "mimetype": "text/x-python",
   "name": "python",
   "nbconvert_exporter": "python",
   "pygments_lexer": "ipython3",
   "version": "3.10.9"
  }
 },
 "nbformat": 4,
 "nbformat_minor": 5
}
